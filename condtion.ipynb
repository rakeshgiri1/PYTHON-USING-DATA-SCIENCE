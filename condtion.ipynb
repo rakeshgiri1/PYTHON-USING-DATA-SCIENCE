{
 "cells": [
  {
   "cell_type": "code",
   "execution_count": 3,
   "metadata": {},
   "outputs": [
    {
     "name": "stdout",
     "output_type": "stream",
     "text": [
      "Good job 😊\n"
     ]
    }
   ],
   "source": [
    "x=(input(\"Enter the number:\"))\n",
    "if x.isnumeric():\n",
    "    print(\"Good job 😊\")\n",
    "else:\n",
    "    print(\"sad\")\n"
   ]
  },
  {
   "cell_type": "code",
   "execution_count": 4,
   "metadata": {},
   "outputs": [
    {
     "name": "stdout",
     "output_type": "stream",
     "text": [
      "please wait 3 year\n"
     ]
    }
   ],
   "source": [
    "age=int(input(\"enter the number: \"))\n",
    "if age >= 18:\n",
    "    print(\"you are eligible to vote\")\n",
    "else:\n",
    "    print(f\"please wait {18-age} year\")\n",
    "         "
   ]
  },
  {
   "cell_type": "code",
   "execution_count": 8,
   "metadata": {},
   "outputs": [
    {
     "name": "stdout",
     "output_type": "stream",
     "text": [
      "we have 10kg mango in store\n",
      "total casting about Rs.100\n"
     ]
    }
   ],
   "source": [
    "x=10\n",
    "y='mango'\n",
    "prc=10\n",
    "print(f\"we have {x}kg {y} in store\")\n",
    "print(f\"total casting about Rs.{x*prc}\")"
   ]
  },
  {
   "cell_type": "code",
   "execution_count": 11,
   "metadata": {},
   "outputs": [
    {
     "name": "stdout",
     "output_type": "stream",
     "text": [
      "a=60 is natural number\n",
      "a=60 is Even number\n",
      "a=60 is grater than 50\n"
     ]
    }
   ],
   "source": [
    "a=int(input(\"Enter the number: \"))\n",
    "if a > 0:\n",
    "    print(f\"{a=} is natural number\")\n",
    "if a %2==0:\n",
    "    print(f\"{a=} is Even number\")    \n",
    "if a>50:\n",
    "    print(f\"{a=} is grater than 50\")    \n"
   ]
  },
  {
   "cell_type": "code",
   "execution_count": 16,
   "metadata": {},
   "outputs": [
    {
     "name": "stdout",
     "output_type": "stream",
     "text": [
      "the total salary is:  45000.0\n"
     ]
    }
   ],
   "source": [
    "post=str(input(\"Enter the post\"))\n",
    "if post=='manager':\n",
    " bs=50000\n",
    "bns=bs* .1\n",
    "hra=bs*.2 \n",
    "if post=='Devleper':\n",
    " bs=40000\n",
    "bns=bs* .2\n",
    "hra=bs*.2 \n",
    "if post=='tester':\n",
    " bs=30000\n",
    "bns=bs* .3\n",
    "hra=bs*.2 \n",
    "print(\"the total salary is: \",bs+bns+hra )    \n"
   ]
  },
  {
   "cell_type": "code",
   "execution_count": null,
   "metadata": {},
   "outputs": [],
   "source": []
  },
  {
   "cell_type": "code",
   "execution_count": null,
   "metadata": {},
   "outputs": [],
   "source": []
  }
 ],
 "metadata": {
  "kernelspec": {
   "display_name": "base",
   "language": "python",
   "name": "python3"
  },
  "language_info": {
   "codemirror_mode": {
    "name": "ipython",
    "version": 3
   },
   "file_extension": ".py",
   "mimetype": "text/x-python",
   "name": "python",
   "nbconvert_exporter": "python",
   "pygments_lexer": "ipython3",
   "version": "3.10.8"
  },
  "orig_nbformat": 4,
  "vscode": {
   "interpreter": {
    "hash": "30c1701afdf305152564d603f264932cca1b2a6a52cd9e021e4251ab5ad92cb2"
   }
  }
 },
 "nbformat": 4,
 "nbformat_minor": 2
}
