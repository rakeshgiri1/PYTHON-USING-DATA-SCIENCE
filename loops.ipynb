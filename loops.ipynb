{
 "cells": [
  {
   "cell_type": "code",
   "execution_count": 8,
   "metadata": {},
   "outputs": [
    {
     "name": "stdout",
     "output_type": "stream",
     "text": [
      "1\n",
      "2\n",
      "3\n",
      "4\n",
      "5\n",
      "6\n",
      "7\n",
      "8\n",
      "9\n",
      "10\n",
      "11\n",
      "12\n",
      "13\n",
      "14\n",
      "15\n",
      "16\n",
      "17\n",
      "18\n",
      "19\n",
      "20\n",
      "21\n",
      "22\n",
      "23\n",
      "24\n",
      "25\n",
      "26\n",
      "27\n",
      "28\n",
      "29\n",
      "30\n",
      "31\n",
      "32\n",
      "33\n",
      "34\n",
      "35\n",
      "36\n",
      "37\n",
      "38\n",
      "39\n",
      "40\n",
      "41\n",
      "42\n",
      "43\n",
      "44\n",
      "45\n",
      "46\n",
      "47\n",
      "48\n",
      "49\n",
      "50\n",
      "51\n",
      "52\n",
      "53\n",
      "54\n",
      "55\n",
      "56\n",
      "57\n",
      "58\n",
      "59\n",
      "60\n",
      "61\n",
      "62\n",
      "63\n",
      "64\n",
      "65\n",
      "66\n",
      "67\n",
      "68\n",
      "69\n",
      "70\n",
      "71\n",
      "72\n",
      "73\n",
      "74\n",
      "75\n",
      "76\n",
      "77\n",
      "78\n",
      "79\n",
      "80\n",
      "81\n",
      "82\n",
      "83\n",
      "84\n",
      "85\n",
      "86\n",
      "87\n",
      "88\n",
      "89\n",
      "90\n",
      "91\n",
      "92\n",
      "93\n",
      "94\n",
      "95\n",
      "96\n",
      "97\n",
      "98\n",
      "99\n"
     ]
    }
   ],
   "source": [
    "for x in range(1,100):\n",
    "    print(x)"
   ]
  },
  {
   "cell_type": "code",
   "execution_count": 14,
   "metadata": {},
   "outputs": [
    {
     "name": "stdout",
     "output_type": "stream",
     "text": [
      "total apps=15\n"
     ]
    }
   ],
   "source": [
    "apps=[\"playstore\",\"google\",\"phonepey\",\"Gpay\",\"peytm\",\"gallery\",\"calculater\",\n",
    "      \"themes\",\"fb\",\"insta\",\"chrome\",\"clock\",\"hotstar\",\"flipkart\",\n",
    "      \"myntra\"]\n",
    "print(f\"total apps={len(apps)}\")"
   ]
  },
  {
   "cell_type": "code",
   "execution_count": 15,
   "metadata": {},
   "outputs": [
    {
     "name": "stdout",
     "output_type": "stream",
     "text": [
      "playstore\n",
      "google\n",
      "phonepey\n",
      "Gpay\n",
      "peytm\n",
      "gallery\n",
      "calculater\n",
      "themes\n",
      "fb\n",
      "insta\n",
      "chrome\n",
      "clock\n",
      "hotstar\n",
      "flipkart\n",
      "myntra\n"
     ]
    }
   ],
   "source": [
    "for app in apps:\n",
    "    print(app)"
   ]
  },
  {
   "cell_type": "code",
   "execution_count": 16,
   "metadata": {},
   "outputs": [
    {
     "name": "stdout",
     "output_type": "stream",
     "text": [
      "playstore       | 9\n",
      "google          | 6\n",
      "phonepey        | 8\n",
      "Gpay            | 4\n",
      "peytm           | 5\n",
      "gallery         | 7\n",
      "calculater      | 10\n",
      "themes          | 6\n",
      "fb              | 2\n",
      "insta           | 5\n",
      "chrome          | 6\n",
      "clock           | 5\n",
      "hotstar         | 7\n",
      "flipkart        | 8\n",
      "myntra          | 6\n"
     ]
    }
   ],
   "source": [
    "for app in apps:\n",
    "    print(f\"{app:15} | {len(app)}\")"
   ]
  },
  {
   "cell_type": "code",
   "execution_count": 20,
   "metadata": {},
   "outputs": [
    {
     "name": "stdout",
     "output_type": "stream",
     "text": [
      "phonepey\n",
      "insta\n",
      "myntra\n"
     ]
    }
   ],
   "source": [
    "for app in apps:\n",
    "    if 'n' in app:\n",
    "        print(app)"
   ]
  },
  {
   "cell_type": "code",
   "execution_count": 21,
   "metadata": {},
   "outputs": [
    {
     "name": "stdout",
     "output_type": "stream",
     "text": [
      "myntra\n"
     ]
    }
   ],
   "source": [
    "for app in apps:\n",
    "    if app.startswith('m'):\n",
    "        print(app)"
   ]
  },
  {
   "cell_type": "code",
   "execution_count": 23,
   "metadata": {},
   "outputs": [
    {
     "name": "stdout",
     "output_type": "stream",
     "text": [
      "fb\n"
     ]
    }
   ],
   "source": [
    "for app in apps:\n",
    "    if app.endswith('b'):\n",
    "        print(app)"
   ]
  },
  {
   "cell_type": "code",
   "execution_count": 24,
   "metadata": {},
   "outputs": [
    {
     "name": "stdout",
     "output_type": "stream",
     "text": [
      "12\n",
      "56\n",
      "67\n",
      "32\n",
      "6\n",
      "68\n"
     ]
    }
   ],
   "source": [
    "data=[12,56,0,67,0,32,6,0,68,0,0,0]\n",
    "for i in data:\n",
    "    if i==0:\n",
    "        continue\n",
    "    print(i)"
   ]
  },
  {
   "cell_type": "code",
   "execution_count": 31,
   "metadata": {},
   "outputs": [
    {
     "name": "stdout",
     "output_type": "stream",
     "text": [
      "12\n",
      "56\n"
     ]
    }
   ],
   "source": [
    "data=[12,56,0,67,0,32,6,0,68,0,0,0]\n",
    "for i in data:\n",
    "    if i==0:\n",
    "        break\n",
    "    print(i)"
   ]
  },
  {
   "cell_type": "code",
   "execution_count": 32,
   "metadata": {},
   "outputs": [
    {
     "name": "stdout",
     "output_type": "stream",
     "text": [
      "(0, 'playstore')\n",
      "(1, 'google')\n",
      "(2, 'phonepey')\n",
      "(3, 'Gpay')\n",
      "(4, 'peytm')\n",
      "(5, 'gallery')\n",
      "(6, 'calculater')\n",
      "(7, 'themes')\n",
      "(8, 'fb')\n",
      "(9, 'insta')\n",
      "(10, 'chrome')\n",
      "(11, 'clock')\n",
      "(12, 'hotstar')\n",
      "(13, 'flipkart')\n",
      "(14, 'myntra')\n"
     ]
    }
   ],
   "source": [
    "#indexing of sevral string.\n",
    "for app in enumerate(apps):\n",
    "    print(app)"
   ]
  },
  {
   "cell_type": "code",
   "execution_count": 34,
   "metadata": {},
   "outputs": [
    {
     "name": "stdout",
     "output_type": "stream",
     "text": [
      "0 playstore\n",
      "1 google\n",
      "2 phonepey\n",
      "3 Gpay\n",
      "4 peytm\n",
      "5 gallery\n",
      "6 calculater\n",
      "7 themes\n",
      "8 fb\n",
      "9 insta\n",
      "10 chrome\n"
     ]
    }
   ],
   "source": [
    "for i, app in enumerate(apps):\n",
    "    if i>10:\n",
    "        break\n",
    "    print(i,app)"
   ]
  },
  {
   "cell_type": "code",
   "execution_count": null,
   "metadata": {},
   "outputs": [],
   "source": []
  }
 ],
 "metadata": {
  "kernelspec": {
   "display_name": "base",
   "language": "python",
   "name": "python3"
  },
  "language_info": {
   "codemirror_mode": {
    "name": "ipython",
    "version": 3
   },
   "file_extension": ".py",
   "mimetype": "text/x-python",
   "name": "python",
   "nbconvert_exporter": "python",
   "pygments_lexer": "ipython3",
   "version": "3.10.8"
  },
  "orig_nbformat": 4,
  "vscode": {
   "interpreter": {
    "hash": "30c1701afdf305152564d603f264932cca1b2a6a52cd9e021e4251ab5ad92cb2"
   }
  }
 },
 "nbformat": 4,
 "nbformat_minor": 2
}
