{
 "cells": [
  {
   "cell_type": "code",
   "execution_count": 1,
   "metadata": {},
   "outputs": [],
   "source": [
    "def burger(bread,cheese,veg,price):\n",
    "    return f' Your burger has  { bread} bread ,{cheese} cheese, is veg {veg} and rs{price}'"
   ]
  },
  {
   "cell_type": "code",
   "execution_count": 2,
   "metadata": {},
   "outputs": [
    {
     "data": {
      "text/plain": [
       "' Your burger has  wheat bread ,cheddar cheese, is veg True and rs100'"
      ]
     },
     "execution_count": 2,
     "metadata": {},
     "output_type": "execute_result"
    }
   ],
   "source": [
    "burger('wheat','cheddar',True,100)"
   ]
  },
  {
   "cell_type": "code",
   "execution_count": 3,
   "metadata": {},
   "outputs": [
    {
     "data": {
      "text/plain": [
       "' Your burger has  wheat bread ,parmeasn cheese, is veg True and rs200'"
      ]
     },
     "execution_count": 3,
     "metadata": {},
     "output_type": "execute_result"
    }
   ],
   "source": [
    "burger(bread='wheat',cheese='parmeasn',veg=True,price=200)"
   ]
  },
  {
   "cell_type": "code",
   "execution_count": 4,
   "metadata": {},
   "outputs": [],
   "source": [
    "def total (x,y,z):\n",
    "    return x+y+z*.005"
   ]
  },
  {
   "cell_type": "code",
   "execution_count": 5,
   "metadata": {},
   "outputs": [
    {
     "name": "stdout",
     "output_type": "stream",
     "text": [
      "5.02\n",
      "3.01\n"
     ]
    }
   ],
   "source": [
    "ans=total(x=2,y=3,z=4)\n",
    "print(ans)\n",
    "ans=total(y=2,z=2,x=1)\n",
    "print(ans)"
   ]
  },
  {
   "cell_type": "code",
   "execution_count": 6,
   "metadata": {},
   "outputs": [],
   "source": [
    "#default parameter.\n",
    "def total_v2(x,y,z=10):\n",
    "    return x+y+z*0.05"
   ]
  },
  {
   "cell_type": "code",
   "execution_count": 9,
   "metadata": {},
   "outputs": [
    {
     "name": "stdout",
     "output_type": "stream",
     "text": [
      "13.5\n",
      "14.0\n"
     ]
    }
   ],
   "source": [
    "print(total_v2(3,10))\n",
    "print(total_v2(3,10,20))"
   ]
  },
  {
   "cell_type": "code",
   "execution_count": 10,
   "metadata": {},
   "outputs": [],
   "source": [
    "def area(l=1,b=1):\n",
    "    return l*b"
   ]
  },
  {
   "cell_type": "code",
   "execution_count": 11,
   "metadata": {},
   "outputs": [
    {
     "name": "stdout",
     "output_type": "stream",
     "text": [
      "1\n",
      "10\n",
      "200\n"
     ]
    }
   ],
   "source": [
    "print(area())\n",
    "print(area(10))\n",
    "print(area(10,20))"
   ]
  },
  {
   "cell_type": "code",
   "execution_count": 12,
   "metadata": {},
   "outputs": [],
   "source": [
    "def greeting(name='Guest'):\n",
    "    print('👍' *5)\n",
    "    print(f'Welcome {name}')\n",
    "    print('❤️'*5)"
   ]
  },
  {
   "cell_type": "code",
   "execution_count": 13,
   "metadata": {},
   "outputs": [
    {
     "name": "stdout",
     "output_type": "stream",
     "text": [
      "👍👍👍👍👍\n",
      "Welcome Guest\n",
      "❤️❤️❤️❤️❤️\n"
     ]
    }
   ],
   "source": [
    "greeting()"
   ]
  },
  {
   "cell_type": "code",
   "execution_count": 14,
   "metadata": {},
   "outputs": [
    {
     "name": "stdout",
     "output_type": "stream",
     "text": [
      "👍👍👍👍👍\n",
      "Welcome baba\n",
      "❤️❤️❤️❤️❤️\n"
     ]
    }
   ],
   "source": [
    "greeting('baba')"
   ]
  },
  {
   "cell_type": "code",
   "execution_count": 15,
   "metadata": {},
   "outputs": [
    {
     "name": "stdout",
     "output_type": "stream",
     "text": [
      "10 20 50 60 10\n"
     ]
    }
   ],
   "source": [
    "# variable argument function.\n",
    "print(10,20,50,60,10,)"
   ]
  },
  {
   "cell_type": "code",
   "execution_count": 22,
   "metadata": {},
   "outputs": [],
   "source": [
    "def average(*number):\n",
    "   if len(number)>1:\n",
    "      return sum(number)/len(number)"
   ]
  },
  {
   "cell_type": "code",
   "execution_count": 23,
   "metadata": {},
   "outputs": [
    {
     "name": "stdout",
     "output_type": "stream",
     "text": [
      "3.5\n",
      "5.0\n",
      "12.333333333333334\n",
      "19.0\n",
      "None\n"
     ]
    }
   ],
   "source": [
    "print(average(1,2,3,4,5,6,))\n",
    "print(average(1,2,3,4,5,6,7,8,9))\n",
    "print(average(1,2,3,4,5,6,20,30,40))\n",
    "print(average(1,2,3,4,5,6,50,30,70))\n",
    "print(average())\n"
   ]
  },
  {
   "cell_type": "code",
   "execution_count": 24,
   "metadata": {},
   "outputs": [],
   "source": [
    "def menu(**products):\n",
    "    for k,v in products.items():\n",
    "        print(f'🥙{k:15} | rs.{v:4}')"
   ]
  },
  {
   "cell_type": "code",
   "execution_count": 25,
   "metadata": {},
   "outputs": [
    {
     "name": "stdout",
     "output_type": "stream",
     "text": [
      "🥙chat            | rs. 100\n",
      "🥙idli            | rs.  60\n",
      "🥙dosa            | rs.1000\n",
      "🥙samber          | rs.  40\n",
      "🥙momo            | rs.  90\n",
      "🥙chicken         | rs. 500\n",
      "🥙rice            | rs. 100\n"
     ]
    }
   ],
   "source": [
    "# moti mahal menu.\n",
    "menu(chat=100,idli=60,dosa=1000,samber=40,momo=90,chicken=500,rice=100)"
   ]
  },
  {
   "cell_type": "code",
   "execution_count": null,
   "metadata": {},
   "outputs": [],
   "source": []
  }
 ],
 "metadata": {
  "kernelspec": {
   "display_name": "base",
   "language": "python",
   "name": "python3"
  },
  "language_info": {
   "codemirror_mode": {
    "name": "ipython",
    "version": 3
   },
   "file_extension": ".py",
   "mimetype": "text/x-python",
   "name": "python",
   "nbconvert_exporter": "python",
   "pygments_lexer": "ipython3",
   "version": "3.10.8"
  },
  "orig_nbformat": 4,
  "vscode": {
   "interpreter": {
    "hash": "30c1701afdf305152564d603f264932cca1b2a6a52cd9e021e4251ab5ad92cb2"
   }
  }
 },
 "nbformat": 4,
 "nbformat_minor": 2
}
