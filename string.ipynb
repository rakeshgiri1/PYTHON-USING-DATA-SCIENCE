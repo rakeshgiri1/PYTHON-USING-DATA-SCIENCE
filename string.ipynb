{
 "cells": [
  {
   "cell_type": "markdown",
   "metadata": {},
   "source": [
    "## string methods \n",
    "- formating method\n",
    "     upper()\n",
    "    lower()\n",
    "    capitalize()\n",
    "    title()\n",
    "    swapcase()"
   ]
  },
  {
   "cell_type": "code",
   "execution_count": 7,
   "metadata": {},
   "outputs": [
    {
     "data": {
      "text/plain": [
       "'Journey Before Destination'"
      ]
     },
     "execution_count": 7,
     "metadata": {},
     "output_type": "execute_result"
    }
   ],
   "source": [
    "msg='journey before destination'\n",
    "msg.title()"
   ]
  },
  {
   "cell_type": "code",
   "execution_count": 3,
   "metadata": {},
   "outputs": [
    {
     "data": {
      "text/plain": [
       "'JOURNEY BEFORE DESTINATION'"
      ]
     },
     "execution_count": 3,
     "metadata": {},
     "output_type": "execute_result"
    }
   ],
   "source": [
    "msg.upper()"
   ]
  },
  {
   "cell_type": "code",
   "execution_count": 4,
   "metadata": {},
   "outputs": [
    {
     "data": {
      "text/plain": [
       "'JOURNEY BEFORE DESTINATION'"
      ]
     },
     "execution_count": 4,
     "metadata": {},
     "output_type": "execute_result"
    }
   ],
   "source": [
    "msg.swapcase()"
   ]
  },
  {
   "cell_type": "code",
   "execution_count": 9,
   "metadata": {},
   "outputs": [
    {
     "data": {
      "text/plain": [
       "'Journey before destination'"
      ]
     },
     "execution_count": 9,
     "metadata": {},
     "output_type": "execute_result"
    }
   ],
   "source": [
    "msg.capitalize()"
   ]
  },
  {
   "cell_type": "code",
   "execution_count": 10,
   "metadata": {},
   "outputs": [
    {
     "data": {
      "text/plain": [
       "'journey before destination'"
      ]
     },
     "execution_count": 10,
     "metadata": {},
     "output_type": "execute_result"
    }
   ],
   "source": [
    "msg.casefold()"
   ]
  },
  {
   "attachments": {},
   "cell_type": "markdown",
   "metadata": {},
   "source": [
    "# String utility methods.\n",
    "   -strip()\n",
    "   -count()\n",
    "   -split()\n",
    "   -join()\n",
    "   -find()\n",
    "   -replace()\n",
    "   -startwith()\n",
    "   -endswith()"
   ]
  },
  {
   "cell_type": "code",
   "execution_count": 14,
   "metadata": {},
   "outputs": [
    {
     "name": "stdout",
     "output_type": "stream",
     "text": [
      "rakesh giri\n",
      "11\n"
     ]
    }
   ],
   "source": [
    "name=input(\"Enter your name\")\n",
    "print(name)\n",
    "print(len(name))"
   ]
  },
  {
   "cell_type": "code",
   "execution_count": 13,
   "metadata": {},
   "outputs": [
    {
     "name": "stdout",
     "output_type": "stream",
     "text": [
      "rakesh 6\n"
     ]
    }
   ],
   "source": [
    "clean_name=name.strip()\n",
    "print(clean_name,len(clean_name))"
   ]
  },
  {
   "cell_type": "code",
   "execution_count": 16,
   "metadata": {},
   "outputs": [
    {
     "data": {
      "text/plain": [
       "5"
      ]
     },
     "execution_count": 16,
     "metadata": {},
     "output_type": "execute_result"
    }
   ],
   "source": [
    "data=\"awhgsdgjsbdnadsghkfhcbdsabnfglicfbdsnmfhklHdeuwqyeliutfegh\"\n",
    "data.count('f')"
   ]
  },
  {
   "cell_type": "code",
   "execution_count": 17,
   "metadata": {},
   "outputs": [
    {
     "data": {
      "text/plain": [
       "5"
      ]
     },
     "execution_count": 17,
     "metadata": {},
     "output_type": "execute_result"
    }
   ],
   "source": [
    "data.count(\"f\")+data.count(\"F\")"
   ]
  },
  {
   "cell_type": "code",
   "execution_count": 2,
   "metadata": {},
   "outputs": [
    {
     "data": {
      "text/plain": [
       "4"
      ]
     },
     "execution_count": 2,
     "metadata": {},
     "output_type": "execute_result"
    }
   ],
   "source": [
    "data='''Developed by Theta’s co-founders, Customer-Based Corporate Valuation methodology (CBCV) provides a more accurate view of the value of your entire company. See where your company stands today and how different customer and financial assumptions impact your CBCV valuation in real-time.\n",
    "\n",
    "Uncover hidden sources of your company value by more accurately predicting what your customers will do in the future\n",
    "Evaluate different valuation scenarios as a result of customer initiatives in real time (e.g., if we were to decrease churn by 3%, what will it do to our equity value?)\n",
    "Ensure better goal alignment between marketing and finance'''\n",
    "data.count('of')"
   ]
  },
  {
   "cell_type": "code",
   "execution_count": 3,
   "metadata": {},
   "outputs": [
    {
     "name": "stdout",
     "output_type": "stream",
     "text": [
      "['Developed', 'by', 'Theta’s', 'co-founders,', 'Customer-Based', 'Corporate', 'Valuation', 'methodology', '(CBCV)', 'provides', 'a', 'more', 'accurate', 'view', 'of', 'the', 'value', 'of', 'your', 'entire', 'company.', 'See', 'where', 'your', 'company', 'stands', 'today', 'and', 'how', 'different', 'customer', 'and', 'financial', 'assumptions', 'impact', 'your', 'CBCV', 'valuation', 'in', 'real-time.', 'Uncover', 'hidden', 'sources', 'of', 'your', 'company', 'value', 'by', 'more', 'accurately', 'predicting', 'what', 'your', 'customers', 'will', 'do', 'in', 'the', 'future', 'Evaluate', 'different', 'valuation', 'scenarios', 'as', 'a', 'result', 'of', 'customer', 'initiatives', 'in', 'real', 'time', '(e.g.,', 'if', 'we', 'were', 'to', 'decrease', 'churn', 'by', '3%,', 'what', 'will', 'it', 'do', 'to', 'our', 'equity', 'value?)', 'Ensure', 'better', 'goal', 'alignment', 'between', 'marketing', 'and', 'finance'] 97\n"
     ]
    }
   ],
   "source": [
    "word= data.split()\n",
    "print(word,len(word))"
   ]
  },
  {
   "cell_type": "code",
   "execution_count": 4,
   "metadata": {},
   "outputs": [
    {
     "data": {
      "text/plain": [
       "['D',\n",
       " 'v',\n",
       " 'lop',\n",
       " 'd by Th',\n",
       " 'ta’s co-found',\n",
       " 'rs, Custom',\n",
       " 'r-Bas',\n",
       " 'd Corporat',\n",
       " ' Valuation m',\n",
       " 'thodology (CBCV) provid',\n",
       " 's a mor',\n",
       " ' accurat',\n",
       " ' vi',\n",
       " 'w of th',\n",
       " ' valu',\n",
       " ' of your ',\n",
       " 'ntir',\n",
       " ' company. S',\n",
       " '',\n",
       " ' wh',\n",
       " 'r',\n",
       " ' your company stands today and how diff',\n",
       " 'r',\n",
       " 'nt custom',\n",
       " 'r and financial assumptions impact your CBCV valuation in r',\n",
       " 'al-tim',\n",
       " '.\\n\\nUncov',\n",
       " 'r hidd',\n",
       " 'n sourc',\n",
       " 's of your company valu',\n",
       " ' by mor',\n",
       " ' accurat',\n",
       " 'ly pr',\n",
       " 'dicting what your custom',\n",
       " 'rs will do in th',\n",
       " ' futur',\n",
       " '\\nEvaluat',\n",
       " ' diff',\n",
       " 'r',\n",
       " 'nt valuation sc',\n",
       " 'narios as a r',\n",
       " 'sult of custom',\n",
       " 'r initiativ',\n",
       " 's in r',\n",
       " 'al tim',\n",
       " ' (',\n",
       " '.g., if w',\n",
       " ' w',\n",
       " 'r',\n",
       " ' to d',\n",
       " 'cr',\n",
       " 'as',\n",
       " ' churn by 3%, what will it do to our ',\n",
       " 'quity valu',\n",
       " '?)\\nEnsur',\n",
       " ' b',\n",
       " 'tt',\n",
       " 'r goal alignm',\n",
       " 'nt b',\n",
       " 'tw',\n",
       " '',\n",
       " 'n mark',\n",
       " 'ting and financ',\n",
       " '']"
      ]
     },
     "execution_count": 4,
     "metadata": {},
     "output_type": "execute_result"
    }
   ],
   "source": [
    "data.split('e')"
   ]
  },
  {
   "cell_type": "code",
   "execution_count": 5,
   "metadata": {},
   "outputs": [
    {
     "data": {
      "text/plain": [
       "['Developed by Theta’s co-founders, Customer-Based Corporate Valuation methodology (CBCV) provides a more accurate view of the value of your entire company. See where your company stands today and how different customer and financial assumptions impact your CBCV valuation in real-time.',\n",
       " '',\n",
       " 'Uncover hidden sources of your company value by more accurately predicting what your customers will do in the future',\n",
       " 'Evaluate different valuation scenarios as a result of customer initiatives in real time (e.g., if we were to decrease churn by 3%, what will it do to our equity value?)',\n",
       " 'Ensure better goal alignment between marketing and finance']"
      ]
     },
     "execution_count": 5,
     "metadata": {},
     "output_type": "execute_result"
    }
   ],
   "source": [
    "data.splitlines()"
   ]
  },
  {
   "cell_type": "code",
   "execution_count": 43,
   "metadata": {},
   "outputs": [],
   "source": [
    "address_parts=[\n",
    "    'C1/31',\n",
    "    'Shohratgarh',\n",
    "    'Siddharthnagar',\n",
    "    '272205' ]"
   ]
  },
  {
   "cell_type": "code",
   "execution_count": 46,
   "metadata": {},
   "outputs": [
    {
     "data": {
      "text/plain": [
       "'C1/31ShohratgarhSiddharthnagar272205'"
      ]
     },
     "execution_count": 46,
     "metadata": {},
     "output_type": "execute_result"
    }
   ],
   "source": [
    "''.join(address_parts)"
   ]
  },
  {
   "cell_type": "code",
   "execution_count": 47,
   "metadata": {},
   "outputs": [
    {
     "name": "stdout",
     "output_type": "stream",
     "text": [
      "C1/31\n",
      "Shohratgarh\n",
      "Siddharthnagar\n",
      "272205\n"
     ]
    }
   ],
   "source": [
    "print('\\n'.join(address_parts))"
   ]
  },
  {
   "cell_type": "code",
   "execution_count": 48,
   "metadata": {},
   "outputs": [
    {
     "data": {
      "text/plain": [
       "'C1/31,Shohratgarh,Siddharthnagar,272205'"
      ]
     },
     "execution_count": 48,
     "metadata": {},
     "output_type": "execute_result"
    }
   ],
   "source": [
    "','.join(address_parts)"
   ]
  },
  {
   "cell_type": "code",
   "execution_count": 1,
   "metadata": {},
   "outputs": [
    {
     "data": {
      "text/plain": [
       "21"
      ]
     },
     "execution_count": 1,
     "metadata": {},
     "output_type": "execute_result"
    }
   ],
   "source": [
    " message ='this is a message to all the autobots'\n",
    "message.find('all')"
   ]
  },
  {
   "cell_type": "code",
   "execution_count": 2,
   "metadata": {},
   "outputs": [
    {
     "data": {
      "text/plain": [
       "5"
      ]
     },
     "execution_count": 2,
     "metadata": {},
     "output_type": "execute_result"
    }
   ],
   "source": [
    "message.find('is',3,10)"
   ]
  },
  {
   "cell_type": "code",
   "execution_count": 3,
   "metadata": {},
   "outputs": [
    {
     "data": {
      "text/plain": [
       "3"
      ]
     },
     "execution_count": 3,
     "metadata": {},
     "output_type": "execute_result"
    }
   ],
   "source": [
    "message='it is a story about the clown in the movie it'\n",
    "message.find('is',3,10)"
   ]
  },
  {
   "cell_type": "code",
   "execution_count": 7,
   "metadata": {},
   "outputs": [],
   "source": [
    "def find_all(msg,query):\n",
    "    pos=0\n",
    "    index=[]\n",
    "    while True:\n",
    "        pos=msg.find(query,pos)\n",
    "        if pos >=0:\n",
    "            index.append(pos)\n",
    "            pos+=1\n",
    "        else:\n",
    "            break\n",
    "    return index    "
   ]
  },
  {
   "cell_type": "code",
   "execution_count": 8,
   "metadata": {},
   "outputs": [
    {
     "data": {
      "text/plain": [
       "[0, 43]"
      ]
     },
     "execution_count": 8,
     "metadata": {},
     "output_type": "execute_result"
    }
   ],
   "source": [
    "find_all(message,'it')"
   ]
  },
  {
   "cell_type": "code",
   "execution_count": 15,
   "metadata": {},
   "outputs": [
    {
     "name": "stdout",
     "output_type": "stream",
     "text": [
      "[123456789]\n"
     ]
    }
   ],
   "source": [
    "x =list(map(int,input().split()))\n",
    "print(x)"
   ]
  },
  {
   "cell_type": "code",
   "execution_count": null,
   "metadata": {},
   "outputs": [],
   "source": []
  }
 ],
 "metadata": {
  "kernelspec": {
   "display_name": "base",
   "language": "python",
   "name": "python3"
  },
  "language_info": {
   "codemirror_mode": {
    "name": "ipython",
    "version": 3
   },
   "file_extension": ".py",
   "mimetype": "text/x-python",
   "name": "python",
   "nbconvert_exporter": "python",
   "pygments_lexer": "ipython3",
   "version": "3.10.8"
  },
  "orig_nbformat": 4,
  "vscode": {
   "interpreter": {
    "hash": "30c1701afdf305152564d603f264932cca1b2a6a52cd9e021e4251ab5ad92cb2"
   }
  }
 },
 "nbformat": 4,
 "nbformat_minor": 2
}
