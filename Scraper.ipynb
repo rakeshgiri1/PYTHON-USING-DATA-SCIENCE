{
 "cells": [
  {
   "cell_type": "code",
   "execution_count": 21,
   "metadata": {},
   "outputs": [],
   "source": [
    "from dputils.scrape import Scraper,Tag"
   ]
  },
  {
   "cell_type": "code",
   "execution_count": 2,
   "metadata": {},
   "outputs": [
    {
     "ename": "NameError",
     "evalue": "name 'Scraper' is not defined",
     "output_type": "error",
     "traceback": [
      "\u001b[1;31m---------------------------------------------------------------------------\u001b[0m",
      "\u001b[1;31mNameError\u001b[0m                                 Traceback (most recent call last)",
      "Cell \u001b[1;32mIn[2], line 2\u001b[0m\n\u001b[0;32m      1\u001b[0m url\u001b[39m=\u001b[39m\u001b[39m'\u001b[39m\u001b[39mhttps://www.flipkart.com/search?q=bags\u001b[39m\u001b[39m'\u001b[39m\n\u001b[1;32m----> 2\u001b[0m sc\u001b[39m=\u001b[39mScraper(url)\n",
      "\u001b[1;31mNameError\u001b[0m: name 'Scraper' is not defined"
     ]
    }
   ],
   "source": [
    "\n",
    "url='https://www.flipkart.com/search?q=bags'\n",
    "sc=Scraper(url)"
   ]
  },
  {
   "cell_type": "code",
   "execution_count": 3,
   "metadata": {},
   "outputs": [
    {
     "ename": "NameError",
     "evalue": "name 'Tag' is not defined",
     "output_type": "error",
     "traceback": [
      "\u001b[1;31m---------------------------------------------------------------------------\u001b[0m",
      "\u001b[1;31mNameError\u001b[0m                                 Traceback (most recent call last)",
      "Cell \u001b[1;32mIn[3], line 1\u001b[0m\n\u001b[1;32m----> 1\u001b[0m target\u001b[39m=\u001b[39mTag(\u001b[39m'\u001b[39m\u001b[39mdiv\u001b[39m\u001b[39m'\u001b[39m,\u001b[39mcls\u001b[39m\u001b[39m=\u001b[39m\u001b[39m'\u001b[39m\u001b[39m_1YokD2 _3Mn1Gg\u001b[39m\u001b[39m'\u001b[39m)\n\u001b[0;32m      2\u001b[0m items\u001b[39m=\u001b[39mTag(\u001b[39m'\u001b[39m\u001b[39mdiv\u001b[39m\u001b[39m'\u001b[39m,\u001b[39mcls\u001b[39m\u001b[39m=\u001b[39m\u001b[39m'\u001b[39m\u001b[39m_1xHGtK _373qXS\u001b[39m\u001b[39m'\u001b[39m)\n\u001b[0;32m      3\u001b[0m brand\u001b[39m=\u001b[39mTag(\u001b[39m'\u001b[39m\u001b[39mdiv\u001b[39m\u001b[39m'\u001b[39m,\u001b[39mcls\u001b[39m\u001b[39m=\u001b[39m\u001b[39m'\u001b[39m\u001b[39m_2WkVRV\u001b[39m\u001b[39m'\u001b[39m)\n",
      "\u001b[1;31mNameError\u001b[0m: name 'Tag' is not defined"
     ]
    }
   ],
   "source": [
    "target=Tag('div',cls='_1YokD2 _3Mn1Gg')\n",
    "items=Tag('div',cls='_1xHGtK _373qXS')\n",
    "brand=Tag('div',cls='_2WkVRV')\n",
    "details=Tag('a',cls='IRpwTa')\n",
    "price=Tag('div',cls='_30jeq3')\n",
    "color=Tag('div',cls='_3eWWd-')\n",
    "discount=Tag('div',cls='_3Ay6Sb')\n"
   ]
  },
  {
   "cell_type": "code",
   "execution_count": null,
   "metadata": {},
   "outputs": [],
   "source": [
    "sc.get_all(target,items, brand=brand,details=details,price=price,color=color,discount=discount)"
   ]
  }
 ],
 "metadata": {
  "kernelspec": {
   "display_name": "base",
   "language": "python",
   "name": "python3"
  },
  "language_info": {
   "codemirror_mode": {
    "name": "ipython",
    "version": 3
   },
   "file_extension": ".py",
   "mimetype": "text/x-python",
   "name": "python",
   "nbconvert_exporter": "python",
   "pygments_lexer": "ipython3",
   "version": "3.10.8"
  },
  "orig_nbformat": 4
 },
 "nbformat": 4,
 "nbformat_minor": 2
}
