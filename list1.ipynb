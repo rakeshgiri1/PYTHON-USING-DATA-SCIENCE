{
 "cells": [
  {
   "cell_type": "code",
   "execution_count": 1,
   "metadata": {},
   "outputs": [],
   "source": [
    "x=[] #blank list\n",
    "x2=[1,2,3]# list with 3 elements\n",
    "x3=[12,45,'apple','Orange']#list with 4 elements\n",
    "x4=['Aman','Rakesh','Aditya']"
   ]
  },
  {
   "cell_type": "code",
   "execution_count": 2,
   "metadata": {},
   "outputs": [
    {
     "name": "stdout",
     "output_type": "stream",
     "text": [
      "[]\n",
      "[1, 2, 3]\n",
      "[12, 45, 'apple', 'Orange']\n",
      "['Aman', 'Rakesh', 'Aditya']\n"
     ]
    }
   ],
   "source": [
    "print(x)\n",
    "print(x2)\n",
    "print(x3)\n",
    "print(x4)\n",
    "\n"
   ]
  },
  {
   "cell_type": "code",
   "execution_count": 4,
   "metadata": {},
   "outputs": [
    {
     "data": {
      "text/plain": [
       "[1, 1, 1]"
      ]
     },
     "execution_count": 4,
     "metadata": {},
     "output_type": "execute_result"
    }
   ],
   "source": [
    "y=[1]\n",
    "y*3"
   ]
  },
  {
   "cell_type": "code",
   "execution_count": 5,
   "metadata": {},
   "outputs": [
    {
     "data": {
      "text/plain": [
       "['Aman', 'Rakesh', 'Aditya', 12, 45, 'apple', 'Orange']"
      ]
     },
     "execution_count": 5,
     "metadata": {},
     "output_type": "execute_result"
    }
   ],
   "source": [
    "x4+x3 #concatination"
   ]
  },
  {
   "cell_type": "code",
   "execution_count": 6,
   "metadata": {},
   "outputs": [],
   "source": [
    "bad_Movies=['Dil','Pathan','liger','Bramhshatra','War']\n",
    "good_Movies=['KabirShing','Gadar1', 'Singh Sahab', 'the great']\n"
   ]
  },
  {
   "cell_type": "code",
   "execution_count": 7,
   "metadata": {},
   "outputs": [
    {
     "name": "stdout",
     "output_type": "stream",
     "text": [
      "['Dil', 'Pathan', 'liger', 'Bramhshatra', 'War', 'KabirShing', 'Gadar1', 'Singh Sahab', 'the great']\n"
     ]
    }
   ],
   "source": [
    "all_Movies=bad_Movies+good_Movies\n",
    "print(all_Movies)"
   ]
  },
  {
   "cell_type": "code",
   "execution_count": 8,
   "metadata": {},
   "outputs": [],
   "source": [
    "all_Movies.append('Troll 2')\n",
    "all_Movies.append('black window')"
   ]
  },
  {
   "cell_type": "code",
   "execution_count": 10,
   "metadata": {},
   "outputs": [
    {
     "name": "stdout",
     "output_type": "stream",
     "text": [
      "['Dil', 'Pathan', 'liger', 'Bramhshatra', 'War', 'KabirShing', 'Gadar1', 'Singh Sahab', 'the great', 'Troll 2', 'black window']\n"
     ]
    }
   ],
   "source": [
    "print(all_Movies)"
   ]
  },
  {
   "cell_type": "code",
   "execution_count": 12,
   "metadata": {},
   "outputs": [
    {
     "name": "stdout",
     "output_type": "stream",
     "text": [
      "['Dil', 'Pathan', 'the dark night', 'the dark night', 'liger', 'Bramhshatra', 'War', 'KabirShing', 'Gadar1', 'Singh Sahab', 'the great', 'Troll 2', 'black window']\n"
     ]
    }
   ],
   "source": [
    "all_Movies.insert(2,'the dark night')\n",
    "print(all_Movies)"
   ]
  },
  {
   "cell_type": "code",
   "execution_count": 15,
   "metadata": {},
   "outputs": [
    {
     "name": "stdout",
     "output_type": "stream",
     "text": [
      "['Dil', 'Pathan', 'the dark night', 'the dark night', 'liger', 'Bramhshatra', 'War', 'KabirShing', 'Gadar1', 'Singh Sahab', 'the great', 'Troll 2', 'black window', 'Fast & Furious', '2 Fast 2 Furious', 'Fast and Furious: Tokyo Drift']\n"
     ]
    }
   ],
   "source": [
    "\n",
    "sequels=['Fast & Furious','2 Fast 2 Furious','Fast and Furious: Tokyo Drift']\n",
    "all_Movies.extend(sequels)\n",
    "print(all_Movies)\n"
   ]
  },
  {
   "cell_type": "code",
   "execution_count": 16,
   "metadata": {},
   "outputs": [
    {
     "data": {
      "text/plain": [
       "16"
      ]
     },
     "execution_count": 16,
     "metadata": {},
     "output_type": "execute_result"
    }
   ],
   "source": [
    "len(all_Movies)"
   ]
  },
  {
   "attachments": {},
   "cell_type": "markdown",
   "metadata": {},
   "source": [
    "Slicing"
   ]
  },
  {
   "cell_type": "code",
   "execution_count": 17,
   "metadata": {},
   "outputs": [
    {
     "name": "stdout",
     "output_type": "stream",
     "text": [
      "['Dil', 'Pathan', 'the dark night', 'kgf', 'liger', 'Bramhshatra', 'War', 'KabirShing', 'Gadar1', 'Singh Sahab', 'the great', 'Troll 2', 'black window', 'Fast & Furious', '2 Fast 2 Furious', 'Fast and Furious: Tokyo Drift']\n"
     ]
    }
   ],
   "source": [
    "all_Movies[3]='kgf'\n",
    "print(all_Movies)"
   ]
  },
  {
   "cell_type": "code",
   "execution_count": 19,
   "metadata": {},
   "outputs": [
    {
     "data": {
      "text/plain": [
       "['Troll 2',\n",
       " 'black window',\n",
       " 'Fast & Furious',\n",
       " '2 Fast 2 Furious',\n",
       " 'Fast and Furious: Tokyo Drift']"
      ]
     },
     "execution_count": 19,
     "metadata": {},
     "output_type": "execute_result"
    }
   ],
   "source": [
    "all_Movies[-5:] #Show the last 5 element"
   ]
  },
  {
   "cell_type": "code",
   "execution_count": 20,
   "metadata": {},
   "outputs": [
    {
     "name": "stdout",
     "output_type": "stream",
     "text": [
      "['Fast and Furious: Tokyo Drift', '2 Fast 2 Furious', 'Fast & Furious', 'black window', 'Troll 2', 'the great', 'Singh Sahab', 'Gadar1', 'KabirShing', 'War', 'Bramhshatra', 'liger', 'kgf', 'the dark night', 'Pathan', 'Dil']\n"
     ]
    }
   ],
   "source": [
    "all_Movies.reverse()\n",
    "print(all_Movies)"
   ]
  },
  {
   "cell_type": "code",
   "execution_count": 21,
   "metadata": {},
   "outputs": [
    {
     "name": "stdout",
     "output_type": "stream",
     "text": [
      "['2 Fast 2 Furious', 'Bramhshatra', 'Dil', 'Fast & Furious', 'Fast and Furious: Tokyo Drift', 'Gadar1', 'KabirShing', 'Pathan', 'Singh Sahab', 'Troll 2', 'War', 'black window', 'kgf', 'liger', 'the dark night', 'the great']\n"
     ]
    }
   ],
   "source": [
    "all_Movies.sort()\n",
    "print(all_Movies)"
   ]
  },
  {
   "attachments": {},
   "cell_type": "markdown",
   "metadata": {},
   "source": [
    "Random"
   ]
  },
  {
   "cell_type": "code",
   "execution_count": 22,
   "metadata": {},
   "outputs": [],
   "source": [
    "import random as rnd "
   ]
  },
  {
   "cell_type": "code",
   "execution_count": 23,
   "metadata": {},
   "outputs": [
    {
     "name": "stdout",
     "output_type": "stream",
     "text": [
      "['black window', 'Troll 2', 'Bramhshatra', 'KabirShing', 'Fast and Furious: Tokyo Drift', 'Fast & Furious', '2 Fast 2 Furious', 'Gadar1', 'Singh Sahab', 'the dark night', 'War', 'Dil', 'Pathan', 'the great', 'kgf', 'liger']\n"
     ]
    }
   ],
   "source": [
    "rnd.shuffle(all_Movies)\n",
    "print(all_Movies)"
   ]
  },
  {
   "cell_type": "code",
   "execution_count": 26,
   "metadata": {},
   "outputs": [
    {
     "data": {
      "text/plain": [
       "'Fast and Furious: Tokyo Drift'"
      ]
     },
     "execution_count": 26,
     "metadata": {},
     "output_type": "execute_result"
    }
   ],
   "source": [
    "rnd.choice(all_Movies)"
   ]
  },
  {
   "cell_type": "code",
   "execution_count": 29,
   "metadata": {},
   "outputs": [
    {
     "data": {
      "text/plain": [
       "['KabirShing', 'kgf', 'the dark night']"
      ]
     },
     "execution_count": 29,
     "metadata": {},
     "output_type": "execute_result"
    }
   ],
   "source": [
    "rnd.choices(all_Movies, k=3)"
   ]
  },
  {
   "cell_type": "code",
   "execution_count": 31,
   "metadata": {},
   "outputs": [
    {
     "data": {
      "text/plain": [
       "14"
      ]
     },
     "execution_count": 31,
     "metadata": {},
     "output_type": "execute_result"
    }
   ],
   "source": [
    "all_Movies.index('kgf')"
   ]
  },
  {
   "cell_type": "code",
   "execution_count": 32,
   "metadata": {},
   "outputs": [
    {
     "data": {
      "text/plain": [
       "'liger'"
      ]
     },
     "execution_count": 32,
     "metadata": {},
     "output_type": "execute_result"
    }
   ],
   "source": [
    "all_Movies.pop()# remoove last element."
   ]
  },
  {
   "cell_type": "code",
   "execution_count": 33,
   "metadata": {},
   "outputs": [
    {
     "data": {
      "text/plain": [
       "'KabirShing'"
      ]
     },
     "execution_count": 33,
     "metadata": {},
     "output_type": "execute_result"
    }
   ],
   "source": [
    "all_Movies.pop(3)# remoove element at 3 index."
   ]
  },
  {
   "cell_type": "code",
   "execution_count": 37,
   "metadata": {},
   "outputs": [
    {
     "name": "stdout",
     "output_type": "stream",
     "text": [
      "[100, 2, 200, 4, 5]\n",
      "[100, 2, 200, 4, 5]\n",
      "True\n"
     ]
    }
   ],
   "source": [
    "x=[1,2,3,4,5]\n",
    "y=x\n",
    "y[0]=100\n",
    "x[2]=200\n",
    "print(x)\n",
    "print(y)\n",
    "print(x is y)"
   ]
  },
  {
   "cell_type": "code",
   "execution_count": 38,
   "metadata": {},
   "outputs": [
    {
     "name": "stdout",
     "output_type": "stream",
     "text": [
      "[100, 2, 200, 4]\n",
      "[100, 2, 200, 4]\n",
      "[100, 2, 200, 4, 5, 10]\n",
      "False\n"
     ]
    }
   ],
   "source": [
    "z=x.copy()\n",
    "z.append(10)\n",
    "x.remove(5)\n",
    "print(x)\n",
    "print(y)\n",
    "print(z)\n",
    "print(x is z)"
   ]
  },
  {
   "cell_type": "code",
   "execution_count": null,
   "metadata": {},
   "outputs": [],
   "source": []
  }
 ],
 "metadata": {
  "kernelspec": {
   "display_name": "base",
   "language": "python",
   "name": "python3"
  },
  "language_info": {
   "codemirror_mode": {
    "name": "ipython",
    "version": 3
   },
   "file_extension": ".py",
   "mimetype": "text/x-python",
   "name": "python",
   "nbconvert_exporter": "python",
   "pygments_lexer": "ipython3",
   "version": "3.10.8"
  },
  "orig_nbformat": 4,
  "vscode": {
   "interpreter": {
    "hash": "30c1701afdf305152564d603f264932cca1b2a6a52cd9e021e4251ab5ad92cb2"
   }
  }
 },
 "nbformat": 4,
 "nbformat_minor": 2
}
