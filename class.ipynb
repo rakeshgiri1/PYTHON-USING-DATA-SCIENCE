{
 "cells": [
  {
   "cell_type": "code",
   "execution_count": 1,
   "metadata": {},
   "outputs": [],
   "source": [
    "name =['ajay','vijay','rakesh','ramesh','solu']"
   ]
  },
  {
   "attachments": {},
   "cell_type": "markdown",
   "metadata": {},
   "source": [
    "opp\n",
    "classes n objects\n",
    "abstraction\n",
    "enc apsulation\n",
    "inheritance"
   ]
  },
  {
   "cell_type": "code",
   "execution_count": 14,
   "metadata": {},
   "outputs": [],
   "source": [
    "class Account:\n",
    "    def __init__(self,name,amt,pin,acno):\n",
    "        self.name=name\n",
    "        self.amt=amt\n",
    "        self.pin=pin\n",
    "        self.acno=acno\n",
    "    def __repr__(self):\n",
    "        return f'{self.acno}'  "
   ]
  },
  {
   "cell_type": "code",
   "execution_count": 15,
   "metadata": {},
   "outputs": [
    {
     "data": {
      "text/plain": [
       "[1234567, 12345676, 12345677, 12345679, 12345678]"
      ]
     },
     "execution_count": 15,
     "metadata": {},
     "output_type": "execute_result"
    }
   ],
   "source": [
    "accobj=[\n",
    "    Account('ajay',12000,1234,1234567),\n",
    "    Account('vijay',13000,1274,12345676),\n",
    "    Account('rakesh',19000,1634,12345677),\n",
    "    Account('ramesh',12000,1934,12345679),\n",
    "    Account('solu',15000,1934,12345678),\n",
    "\n",
    "]\n",
    "accobj"
   ]
  },
  {
   "cell_type": "code",
   "execution_count": 20,
   "metadata": {},
   "outputs": [],
   "source": [
    "class Triangle:\n",
    "    def __init__(self, b=1,h=1):\n",
    "        self.b=b\n",
    "        self.h=h\n",
    "    def area(self):\n",
    "         return 0.5* self.b*self.h \n",
    "    def __repr__(self):\n",
    "        return f'📐 ({self.area()})'\n",
    "    def _gt_(self,other):\n",
    "        if isinstance(other,Triangle):\n",
    "            return self.area()>other .area           \n",
    "\n"
   ]
  },
  {
   "cell_type": "code",
   "execution_count": 21,
   "metadata": {},
   "outputs": [
    {
     "data": {
      "text/plain": [
       "[📐 (100.0), 📐 (300.0), 📐 (450.0)]"
      ]
     },
     "execution_count": 21,
     "metadata": {},
     "output_type": "execute_result"
    }
   ],
   "source": [
    "tris = [\n",
    "    Triangle(10,20),\n",
    "    Triangle(20,30),\n",
    "    Triangle(30,30),\n",
    "\n",
    "]\n",
    "tris"
   ]
  },
  {
   "cell_type": "code",
   "execution_count": null,
   "metadata": {},
   "outputs": [],
   "source": []
  }
 ],
 "metadata": {
  "kernelspec": {
   "display_name": "base",
   "language": "python",
   "name": "python3"
  },
  "language_info": {
   "codemirror_mode": {
    "name": "ipython",
    "version": 3
   },
   "file_extension": ".py",
   "mimetype": "text/x-python",
   "name": "python",
   "nbconvert_exporter": "python",
   "pygments_lexer": "ipython3",
   "version": "3.10.8"
  },
  "orig_nbformat": 4,
  "vscode": {
   "interpreter": {
    "hash": "30c1701afdf305152564d603f264932cca1b2a6a52cd9e021e4251ab5ad92cb2"
   }
  }
 },
 "nbformat": 4,
 "nbformat_minor": 2
}
